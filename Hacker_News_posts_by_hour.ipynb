{
 "cells": [
  {
   "cell_type": "markdown",
   "metadata": {},
   "source": [
    "## Predict the number of votes a post will attract\n",
    "\n",
    "This study is based in a Dataset from Hacker News posts from the last 12 months (up to September 26 2016).\n",
    "\n",
    "Hacker News is a site started by the startup incubator Y Combinator, where user-submitted stories (known as \"posts\") are voted and commented upon, similar to reddit. Hacker News is extremely popular in technology and startup circles, and posts that make it to the top of Hacker News' listings can get hundreds of thousands of visitors as a result.\n",
    "\n",
    "Users submit Ask HN posts to ask the Hacker News community a specific question.\n",
    "\n",
    "Below are a couple examples:\n",
    "\n",
    "\n",
    ">Ask HN: How to improve my personal website?Ask HN: Am I the only one outraged >by Twitter shutting down share counts?\n",
    ">Ask HN: Aby recent changes to CSS that broke mobile?\n",
    "\n",
    "\n",
    "Likewise, users submit Show HN posts to show the Hacker News community a project, product, or just generally something interesting. Below are a couple of examples:\n",
    "\n",
    ">Show HN: Wio Link  ESP8266 Based Web of Things Hardware Development Platform'\n",
    ">Show HN: Something pointless I made\n",
    ">Show HN: Shanhu.io, a programming playground powered by e8vm\n",
    "\n",
    "\n",
    "We'll compare these two types of posts to determine the following:\n",
    "Do Ask HN or Show HN receive more comments on average?\n",
    "Do posts created at a certain time receive more comments on average?\n",
    "Let's start by importing the libraries we need and reading the data set into a list of lists.\n"
   ]
  },
  {
   "cell_type": "markdown",
   "metadata": {},
   "source": [
    "**Step 1**\n",
    "\n",
    "1. Opening the HN_posts_year_to_Sep_26_2016.csv data sets and assign the data to a list hn\n",
    "2. Extract the first row of data, and assign it to the variable headers.\n",
    "3. Remove the first row from hn.\n",
    "4. Display headers.\n",
    "5. Display the first five rows of hn to verify that you removed the header row properly."
   ]
  },
  {
   "cell_type": "code",
   "execution_count": 1,
   "metadata": {},
   "outputs": [
    {
     "name": "stdout",
     "output_type": "stream",
     "text": [
      "['id', 'title', 'url', 'num_points', 'num_comments', 'author', 'created_at']\n",
      "[['12579005', 'SQLAR  the SQLite Archiver', 'https://www.sqlite.org/sqlar/doc/trunk/README.md', '1', '0', 'blacksqr', '9/26/2016 3:24'], ['12578997', 'What if we just printed a flatscreen television on the side of our boxes?', 'https://medium.com/vanmoof/our-secrets-out-f21c1f03fdc8#.ietxmez43', '1', '0', 'pavel_lishin', '9/26/2016 3:19'], ['12578989', 'algorithmic music', 'http://cacm.acm.org/magazines/2011/7/109891-algorithmic-composition/fulltext', '1', '0', 'poindontcare', '9/26/2016 3:16'], ['12578979', 'How the Data Vault Enables the Next-Gen Data Warehouse and Data Lake', 'https://www.talend.com/blog/2016/05/12/talend-and-Â\\x93the-data-vaultÂ\\x94', '1', '0', 'markgainor1', '9/26/2016 3:14'], ['12578975', 'Saving the Hassle of Shopping', 'https://blog.menswr.com/2016/09/07/whats-new-with-your-style-feed/', '1', '1', 'bdoux', '9/26/2016 3:13']]\n"
     ]
    }
   ],
   "source": [
    "from csv import reader\n",
    "\n",
    "### The App Store data set ###\n",
    "opened_file = open(r\"C:\\Users\\ojesus\\Desktop\\pt_morj\\Formation\\Python\\my_datasets\\HN_posts_year_to_Sep_26_2016.csv\", encoding='utf8')\n",
    "read_file = reader(opened_file)\n",
    "hn = list(read_file)\n",
    "hn_header = hn[0] # name of columns\n",
    "hn = hn[1:]\n",
    "print(hn_header)\n",
    "print(hn[1:6])"
   ]
  },
  {
   "cell_type": "markdown",
   "metadata": {},
   "source": [
    "**Step 2**\n",
    "\n",
    "Create new lists of lists containing in the begin the words Ask HN or Show HN and other lists of lists for other postd check in the title."
   ]
  },
  {
   "cell_type": "code",
   "execution_count": 2,
   "metadata": {
    "scrolled": false
   },
   "outputs": [
    {
     "name": "stdout",
     "output_type": "stream",
     "text": [
      "9139\n",
      "10158\n",
      "273822\n",
      "[['12578908', 'Ask HN: What TLD do you use for local development?', '', '4', '7', 'Sevrene', '9/26/2016 2:53'], ['12578522', 'Ask HN: How do you pass on your work when you die?', '', '6', '3', 'PascLeRasc', '9/26/2016 1:17'], ['12577908', 'Ask HN: How a DNS problem can be limited to a geographic region?', '', '1', '0', 'kuon', '9/25/2016 22:57'], ['12577870', 'Ask HN: Why join a fund when you can be an angel?', '', '1', '3', 'anthony_james', '9/25/2016 22:48'], ['12577647', 'Ask HN: Someone uses stock trading as passive income?', '', '5', '2', '00taffe', '9/25/2016 21:50'], ['12576946', 'Ask HN: How hard would it be to make a cheap, hackable phone?', '', '2', '1', 'hkt', '9/25/2016 19:30']]\n",
      "[['12578335', 'Show HN: Finding puns computationally', 'http://puns.samueltaylor.org/', '2', '0', 'saamm', '9/26/2016 0:36'], ['12578182', 'Show HN: A simple library for complicated animations', 'https://christinecha.github.io/choreographer-js/', '1', '0', 'christinecha', '9/26/2016 0:01'], ['12578098', 'Show HN: WebGL visualization of DNA sequences', 'http://grondilu.github.io/dna.html', '1', '0', 'grondilu', '9/25/2016 23:44'], ['12577991', 'Show HN: Pomodoro-centric, heirarchical project management with ES6 modules', 'https://github.com/jakebian/zeal', '2', '0', 'dbranes', '9/25/2016 23:17'], ['12577142', 'Show HN: Jumble  Essays on the go #PaulInYourPocket', 'https://itunes.apple.com/us/app/jumble-find-startup-essay/id1150939197?ls=1&mt=8', '1', '1', 'ryderj', '9/25/2016 20:06'], ['12576813', 'Show HN: Learn Japanese Vocab via multiple choice questions', 'http://japanese.vul.io/', '1', '1', 'soulchild37', '9/25/2016 19:06']]\n"
     ]
    }
   ],
   "source": [
    "ask_posts   = []\n",
    "show_posts  = []\n",
    "other_posts = []\n",
    "for row in hn:\n",
    "    title = row[1]\n",
    "    if title.lower().startswith('ask hn'):\n",
    "        ask_posts.append(row)\n",
    "    elif title.lower().startswith('show hn'):       \n",
    "        show_posts.append(row)\n",
    "    else:\n",
    "        other_posts.append(row)\n",
    "\n",
    "print(len(ask_posts))\n",
    "print(len(show_posts))\n",
    "print(len(other_posts))    \n",
    "\n",
    "print(ask_posts[:6])\n",
    "print(show_posts[:6])\n",
    "#print(other_posts[:6])        \n",
    "  \n"
   ]
  },
  {
   "cell_type": "markdown",
   "metadata": {},
   "source": [
    "**Step 3**\n",
    "\n",
    "Calculate total number and average of comments in ask posts "
   ]
  },
  {
   "cell_type": "code",
   "execution_count": 3,
   "metadata": {},
   "outputs": [
    {
     "name": "stdout",
     "output_type": "stream",
     "text": [
      "94986\n",
      "10.393478498741656\n"
     ]
    }
   ],
   "source": [
    "total_ask_comments = 0\n",
    "for row in ask_posts:\n",
    "    total_ask_comments += int(row[4])\n",
    "\n",
    "print(total_ask_comments)\n",
    "avg_ask_comments = total_ask_comments / len(ask_posts)\n",
    "print(avg_ask_comments)"
   ]
  },
  {
   "cell_type": "markdown",
   "metadata": {},
   "source": [
    "**Step 4**\n",
    "\n",
    "Calculate total number and average of comments in show posts "
   ]
  },
  {
   "cell_type": "code",
   "execution_count": 4,
   "metadata": {},
   "outputs": [
    {
     "name": "stdout",
     "output_type": "stream",
     "text": [
      "49633\n",
      "4.886099625910612\n"
     ]
    }
   ],
   "source": [
    "total_show_comments = 0\n",
    "for row in show_posts:\n",
    "    total_show_comments += int(row[4])\n",
    "\n",
    "print(total_show_comments)\n",
    "avg_show_comments = total_show_comments / len(show_posts)\n",
    "print(avg_show_comments)"
   ]
  },
  {
   "cell_type": "markdown",
   "metadata": {},
   "source": [
    "**Conclusion:** I can say that comments in ask posts on average are more than double of the show posts."
   ]
  },
  {
   "cell_type": "markdown",
   "metadata": {},
   "source": [
    "**Step 5**\n",
    "\n",
    "Since ask posts are more likely to receive comments, we'll focus our remaining analysis just on these posts.\n",
    "\n",
    "Calculate the amount of ask posts created per hour, along with the total amount of comments."
   ]
  },
  {
   "cell_type": "code",
   "execution_count": 57,
   "metadata": {
    "scrolled": true
   },
   "outputs": [
    {
     "name": "stdout",
     "output_type": "stream",
     "text": [
      "[['9/26/2016 2:53', '7'], ['9/26/2016 1:17', '3'], ['9/25/2016 22:57', '0'], ['9/25/2016 22:48', '3'], ['9/25/2016 21:50', '2'], ['9/25/2016 19:30', '1'], ['9/25/2016 19:22', '22'], ['9/25/2016 17:55', '3'], ['9/25/2016 15:48', '0'], ['9/25/2016 15:35', '13'], ['9/25/2016 15:28', '0'], ['9/25/2016 14:43', '0'], ['9/25/2016 14:17', '3'], ['9/25/2016 13:08', '2'], ['9/25/2016 11:27', '2'], ['9/25/2016 10:51', '0'], ['9/25/2016 10:47', '6'], ['9/25/2016 9:04', '97'], ['9/25/2016 7:09', '4'], ['9/25/2016 3:00', '1'], ['9/24/2016 23:04', '0'], ['9/24/2016 22:02', '7'], ['9/24/2016 21:18', '2'], ['9/24/2016 20:58', '0'], ['9/24/2016 19:57', '1'], ['9/24/2016 19:02', '0'], ['9/24/2016 17:55', '0'], ['9/24/2016 17:27', '1'], ['9/24/2016 16:50', '0'], ['9/24/2016 16:03', '5'], ['9/24/2016 15:29', '66'], ['9/24/2016 14:03', '1'], ['9/24/2016 10:10', '11'], ['9/24/2016 8:46', '7'], ['9/24/2016 8:39', '1'], ['9/24/2016 8:38', '1'], ['9/24/2016 8:28', '1'], ['9/24/2016 3:36', '3'], ['9/24/2016 0:21', '2'], ['9/23/2016 23:38', '6'], ['9/23/2016 23:35', '6'], ['9/23/2016 22:13', '4'], ['9/23/2016 20:58', '2'], ['9/23/2016 20:42', '0'], ['9/23/2016 20:23', '1'], ['9/23/2016 20:18', '477'], ['9/23/2016 19:33', '3'], ['9/23/2016 19:32', '10'], ['9/23/2016 18:56', '12'], ['9/23/2016 18:53', '4'], ['9/23/2016 17:45', '1'], ['9/23/2016 17:35', '1'], ['9/23/2016 17:28', '25'], ['9/23/2016 16:56', '2'], ['9/23/2016 16:14', '3'], ['9/23/2016 12:39', '6'], ['9/23/2016 9:58', '1'], ['9/23/2016 4:47', '2'], ['9/23/2016 2:28', '3'], ['9/23/2016 1:56', '8'], ['9/23/2016 1:24', '2'], ['9/23/2016 1:23', '1'], ['9/23/2016 0:58', '0'], ['9/23/2016 0:11', '5'], ['9/22/2016 21:45', '3'], ['9/22/2016 21:19', '5'], ['9/22/2016 19:58', '19'], ['9/22/2016 19:42', '6'], ['9/22/2016 19:40', '23'], ['9/22/2016 19:18', '2'], ['9/22/2016 18:16', '1'], ['9/22/2016 17:43', '0'], ['9/22/2016 17:38', '0'], ['9/22/2016 17:27', '0'], ['9/22/2016 17:27', '26'], ['9/22/2016 17:05', '0'], ['9/22/2016 16:34', '0'], ['9/22/2016 15:44', '1'], ['9/22/2016 15:18', '10'], ['9/22/2016 15:18', '1'], ['9/22/2016 14:49', '62'], ['9/22/2016 13:11', '0'], ['9/22/2016 12:58', '0'], ['9/22/2016 12:55', '0'], ['9/22/2016 12:50', '3'], ['9/22/2016 11:52', '266'], ['9/22/2016 6:25', '1'], ['9/22/2016 6:19', '2'], ['9/22/2016 5:03', '0'], ['9/22/2016 4:55', '0'], ['9/22/2016 0:47', '0'], ['9/21/2016 23:37', '0'], ['9/21/2016 23:03', '22'], ['9/21/2016 21:14', '1'], ['9/21/2016 20:53', '6'], ['9/21/2016 20:35', '1'], ['9/21/2016 20:33', '1'], ['9/21/2016 19:30', '1'], ['9/21/2016 19:18', '46'], ['9/21/2016 18:39', '0']]\n"
     ]
    }
   ],
   "source": [
    "result_list = []\n",
    "for row in ask_posts:\n",
    "    create_date = row[6] \n",
    "    result_list.append([row[6],row[4]])\n",
    "\n",
    "\n",
    "\n",
    "print(result_list[:100])"
   ]
  },
  {
   "cell_type": "code",
   "execution_count": 26,
   "metadata": {
    "scrolled": true
   },
   "outputs": [
    {
     "name": "stdout",
     "output_type": "stream",
     "text": [
      "{'02': 269, '01': 282, '22': 383, '21': 518, '19': 552, '17': 587, '15': 646, '14': 513, '13': 444, '11': 312, '10': 282, '09': 222, '07': 226, '03': 271, '23': 343, '20': 510, '16': 579, '08': 257, '00': 301, '18': 614, '12': 342, '04': 243, '06': 234, '05': 209}\n",
      "{'02': 2996, '01': 2089, '22': 3372, '21': 4500, '19': 3954, '17': 5547, '15': 18525, '14': 4972, '13': 7245, '11': 2797, '10': 3013, '09': 1477, '07': 1585, '03': 2154, '23': 2297, '20': 4462, '16': 4466, '08': 2362, '00': 2277, '18': 4877, '12': 4234, '04': 2360, '06': 1587, '05': 1838}\n"
     ]
    }
   ],
   "source": [
    "from datetime import datetime\n",
    "counts_by_hour = {}\n",
    "comments_by_hour = {}\n",
    "date_format = \"%H\"\n",
    "num_comments = ''\n",
    "for row in result_list:\n",
    "    num_comments = int(row[-1])\n",
    "    ask_date = datetime.strptime(row[-2], '%m/%d/%Y %H:%M')\n",
    "    ask_date = dt.datetime.strftime(ask_date,date_format)\n",
    "\n",
    "    if ask_date not in counts_by_hour:\n",
    "        counts_by_hour[ask_date]  = 1\n",
    "    else:\n",
    "        counts_by_hour[ask_date]  += 1\n",
    "\n",
    "    if ask_date not in comments_by_hour:\n",
    "        comments_by_hour[ask_date]  = num_comments\n",
    "    else:\n",
    "        comments_by_hour[ask_date]  += num_comments\n",
    "\n",
    "print(counts_by_hour)\n",
    "print(comments_by_hour)\n"
   ]
  },
  {
   "cell_type": "markdown",
   "metadata": {},
   "source": [
    "**Step 6**\n",
    "\n",
    "Based in above information, calculate the average by hour."
   ]
  },
  {
   "cell_type": "code",
   "execution_count": 28,
   "metadata": {
    "scrolled": true
   },
   "outputs": [
    {
     "name": "stdout",
     "output_type": "stream",
     "text": [
      "[['02', 11.137546468401487], ['01', 7.407801418439717], ['22', 8.804177545691905], ['21', 8.687258687258687], ['19', 7.163043478260869], ['17', 9.449744463373083], ['15', 28.676470588235293], ['14', 9.692007797270955], ['13', 16.31756756756757], ['11', 8.96474358974359], ['10', 10.684397163120567], ['09', 6.653153153153153], ['07', 7.013274336283186], ['03', 7.948339483394834], ['23', 6.696793002915452], ['20', 8.749019607843136], ['16', 7.713298791018998], ['08', 9.190661478599221], ['00', 7.5647840531561465], ['18', 7.94299674267101], ['12', 12.380116959064328], ['04', 9.7119341563786], ['06', 6.782051282051282], ['05', 8.794258373205741]]\n"
     ]
    }
   ],
   "source": [
    "avg_by_hour = []\n",
    "for countsbyhour in counts_by_hour:\n",
    "    tot_countsbyhour =  counts_by_hour[countsbyhour]\n",
    "    if countsbyhour in  comments_by_hour:  \n",
    "        tot_commentsbyhour = comments_by_hour[countsbyhour]\n",
    "        avg_calc = tot_commentsbyhour / tot_countsbyhour\n",
    "        avg_by_hour.append([countsbyhour, avg_calc])\n",
    "\n",
    "print(avg_by_hour)"
   ]
  },
  {
   "cell_type": "markdown",
   "metadata": {},
   "source": [
    "**Step 7**\n",
    "\n",
    "Sort the data and print the 5 hours with a higher average show the data like this:\n",
    "\n",
    "15:00: 28.68 average comments per post."
   ]
  },
  {
   "cell_type": "code",
   "execution_count": 56,
   "metadata": {},
   "outputs": [
    {
     "name": "stdout",
     "output_type": "stream",
     "text": [
      "[[28.676470588235293, '15'], [16.31756756756757, '13'], [12.380116959064328, '12'], [11.137546468401487, '02'], [10.684397163120567, '10']]\n",
      "15:00: 28.68 average comments per post.\n",
      "13:00: 16.32 average comments per post.\n",
      "12:00: 12.38 average comments per post.\n",
      "02:00: 11.14 average comments per post.\n",
      "10:00: 10.68 average comments per post.\n"
     ]
    }
   ],
   "source": [
    "swap_avg_by_hour = []\n",
    "for row in avg_by_hour:\n",
    "    swap_avg_by_hour.append([row[1],row[0]])\n",
    "\n",
    "sorted_swap =  sorted(swap_avg_by_hour, reverse=True)   \n",
    "print(sorted_swap[:5])    \n",
    "\n",
    "for row in sorted_swap[:5]:\n",
    "    ask_hour = datetime.strptime(str(row[1]), '%H')\n",
    "    ask_hour = dt.datetime.strftime(ask_hour,'%H:%M')\n",
    "    num_comm = float(row[0])\n",
    "    var_final = \"{0}: {1:.2f} average comments per post.\".format(ask_hour, num_comm)\n",
    "    print (var_final)\n"
   ]
  },
  {
   "cell_type": "markdown",
   "metadata": {},
   "source": [
    "**Step 8**\n",
    "\n",
    "__Conclusion__: The thre hours of the day higher in ask show comments are:\n",
    "\n",
    "15:00: 28.68 average comments per post.  \n",
    "13:00: 16.32 average comments per post.  \n",
    "12:00: 12.38 average comments per post.  \n",
    "We can say the lunch time hours are the ones with more comments."
   ]
  }
 ],
 "metadata": {
  "kernelspec": {
   "display_name": "Python 3",
   "language": "python",
   "name": "python3"
  },
  "language_info": {
   "codemirror_mode": {
    "name": "ipython",
    "version": 3
   },
   "file_extension": ".py",
   "mimetype": "text/x-python",
   "name": "python",
   "nbconvert_exporter": "python",
   "pygments_lexer": "ipython3",
   "version": "3.7.0"
  }
 },
 "nbformat": 4,
 "nbformat_minor": 2
}
